{
 "cells": [
  {
   "cell_type": "markdown",
   "id": "fea61459-29bb-4366-bedf-56669d56215f",
   "metadata": {},
   "source": [
    "# **EDA King County Housing Data**\n",
    "\n",
    "**Stakeholder:** Thomas Hansen.\n",
    "\n",
    "**Thomas situation:** Thomas wants to buy a house. He has 5 children, no money and would like to know where suitable houses are located and when it is cheap to buy.\n",
    "\n",
    "Main Questions:\n",
    "\n",
    "1. Where??\n",
    "2. When??\n",
    "\n",
    "Requirements:\n",
    "1. Neighborhood is not a ghetto\n",
    "2. Neighborhood is lively (no village)\n",
    "3. House has enough space for 1 adult and 5 children\n",
    "4. House is cheap\n",
    "\n",
    "\n"
   ]
  },
  {
   "cell_type": "markdown",
   "id": "9cc90743-6205-452b-8c22-167506ef55e7",
   "metadata": {},
   "source": [
    "## Import libraries"
   ]
  },
  {
   "cell_type": "code",
   "execution_count": null,
   "id": "a6ce8ed5-d4de-4e75-81b3-19901c4e781f",
   "metadata": {},
   "outputs": [],
   "source": [
    "import pandas as pd\n",
    "import matplotlib.pyplot as plt\n",
    "import seaborn as sns\n",
    "import plotly.express as px\n",
    "from plotly.subplots import make_subplots\n",
    "import altair as alt\n",
    "import numpy as np\n",
    "import statsmodels.api as sms"
   ]
  },
  {
   "cell_type": "markdown",
   "id": "3c4eaee9-516b-4dd3-b27f-328d14956818",
   "metadata": {},
   "source": [
    "## Import dataframe \n",
    "\n",
    "\n",
    "* get an overview"
   ]
  },
  {
   "cell_type": "code",
   "execution_count": null,
   "id": "e444ad5d-1ee6-402c-9cc5-2b09f0ff9898",
   "metadata": {},
   "outputs": [],
   "source": [
    "house = pd.read_csv('../data/King_County_House_prices_dataset.csv')\n",
    "house.describe()"
   ]
  },
  {
   "cell_type": "markdown",
   "id": "f5ba4769-d113-4f2f-97d8-ea39468a7d22",
   "metadata": {},
   "source": [
    "## Create new variables\n",
    "\n",
    "1. Price per Squarefoot (price_sqft)\n",
    "2. Month when house was sold (month_sold)"
   ]
  },
  {
   "cell_type": "code",
   "execution_count": null,
   "id": "07151f0c-1c17-46c1-9cef-566cddba817c",
   "metadata": {},
   "outputs": [],
   "source": [
    "# price per sqft\n",
    "house['price_sqft'] = house.price / house.sqft_living\n",
    "new_house = house.copy()\n",
    "\n",
    "\n",
    "# month_sold\n",
    "new_house['date']=pd.to_datetime(new_house['date'],format='%m/%d/%Y')\n",
    "new_house['month_sold'] = new_house['date'].dt.month"
   ]
  },
  {
   "cell_type": "markdown",
   "id": "8c71a60a-59f9-4a0a-a50f-65a12a98ff49",
   "metadata": {},
   "source": [
    "## Filter dataframe to get relevant data\n",
    "\n",
    "**Assumptions:**\n",
    "\n",
    "* Where many houses are sold, there tend to be more houses -> **lively neighborhood** - neighborhoods are taken that are above the median of the sum of sold houses per zip code.\n",
    "* Quiet uncrowded neighborhoods are more likely to be in the countryside and Houses have large lots -> If the 25% quartile of the land lots within the zip code is greater than the median of the land lots of all areas the zipcode is going to be filtered out.\n",
    "* The worst neighborhoods have the lowest price per square foot -> zip codes within the 75% quartile is lower than the 25% quartile of all neighborhoods are going to be filtered out.\n",
    "* Thomas needs at least 4 bedrooms and 1184 square feet of living space\n",
    "\n",
    "\n"
   ]
  },
  {
   "cell_type": "code",
   "execution_count": null,
   "id": "880c9cc5-f04c-4a2d-ad26-6e02b1ef5143",
   "metadata": {},
   "outputs": [],
   "source": [
    "# to see the data --> uncomment the codelines!\n",
    "# median sqft land lot\n",
    "# new_house.sqft_lot15.describe()\n",
    "\n",
    "# take median zipcodes = 282 houses per zipcode\n",
    "# new_house.groupby('zipcode').count().id.describe()"
   ]
  },
  {
   "cell_type": "markdown",
   "id": "6720fe85-6e58-436b-b832-55dce9f2c12a",
   "metadata": {},
   "source": [
    "## Filter Dataframe\n",
    "\n",
    "* to filter the data I have created lists with zipcodes"
   ]
  },
  {
   "cell_type": "code",
   "execution_count": null,
   "id": "370c8c0a-0c5e-494a-83d5-291ec92c604d",
   "metadata": {},
   "outputs": [],
   "source": [
    "# median land lot sqft 7620 \n",
    "\n",
    "big = new_house.groupby('zipcode').sqft_lot15.describe()['25%'].reset_index()\n",
    "big = big[big['25%'] > 7620]\n",
    "big_list = big.zipcode.to_list()\n",
    "\n",
    "# Q25 price per sqft = 177\n",
    "\n",
    "ghetto = new_house.groupby('zipcode').price_sqft.describe()[\"75%\"].reset_index()\n",
    "ghetto = ghetto[ghetto['75%'] < 177]\n",
    "ghetto_list = ghetto.zipcode.to_list()\n",
    "\n",
    "# filter the zipcodes with more sold houses (bigger than median) and add them to the list zips\n",
    "\n",
    "top_zip = new_house.groupby('zipcode').count().query('id > 282').reset_index()\n",
    "zips = top_zip.zipcode.to_list()\n",
    "\n",
    "# filter dataframe\n",
    "new_house = new_house.query('zipcode in @zips and zipcode not in @ ghetto_list and zipcode not in @big_list and sqft_living > 1184 and bedrooms >= 4 ')\n"
   ]
  },
  {
   "cell_type": "markdown",
   "id": "05a0be05-5cc4-48f7-a59f-69b86d44f7f3",
   "metadata": {},
   "source": [
    "* for a better overview I have created the new dataframe **final**, which contains only the variables that are of interest\n",
    "* in addition I have created a new dataframe in which longitudinal and lateral geodata is added to each zipcode, as well as the median square foot price in this zipcode\n",
    "* the name of this dataframe is **final_frame**\n",
    "* i build **final_frame** for better geo plotting"
   ]
  },
  {
   "cell_type": "code",
   "execution_count": null,
   "id": "52035fcb-dde1-4efb-8763-693c9a0ece31",
   "metadata": {},
   "outputs": [],
   "source": [
    "# new dataframe with relevant variables\n",
    "\n",
    "final = new_house[['price', 'bedrooms', 'sqft_living', 'zipcode', 'month_sold', 'lat', 'long', 'price_sqft']].copy()\n",
    "\n",
    "# new dataframe final_frame\n",
    "\n",
    "final_long = final.groupby('zipcode').describe().long['mean'].reset_index()\n",
    "final_long.rename(columns={'mean': 'long'}, inplace=True)\n",
    "final_lat = final.groupby('zipcode').describe().lat['mean'].reset_index()\n",
    "final_lat.rename(columns={'mean': 'lat'}, inplace=True)\n",
    "final_zips = pd.merge(final_lat, final_long, on='zipcode')\n",
    "final_price = final.groupby('zipcode').describe().price_sqft['50%'].reset_index()\n",
    "final_price.rename(columns={'50%': 'price_sqft'}, inplace=True)\n",
    "final_frame = pd.merge(final_zips, final_price, on='zipcode')\n"
   ]
  },
  {
   "cell_type": "markdown",
   "id": "57c5f260-7d76-4a8c-be81-66585d49ab1a",
   "metadata": {},
   "source": [
    "## Create plots to show Results\n",
    "\n",
    "### 1. Plot \n",
    "\n",
    "* shows all possible neighborhoods after filtering the data on the map"
   ]
  },
  {
   "cell_type": "code",
   "execution_count": null,
   "id": "a2df7377-8523-48bf-8bb7-09e912988a11",
   "metadata": {},
   "outputs": [],
   "source": [
    "fig = px.scatter_mapbox(final_frame, lat=final_frame.lat, lon=final_frame.long, width=800, height=600, color=\"price_sqft\")\n",
    "# change default for continuous color scale\n",
    "px.defaults.color_continuous_scale = px.colors.sequential.Agsunset\n",
    "fig.update_geos(fitbounds='locations')\n",
    "fig.update_layout(title='Location - \"Nice neighborhood\"')\n",
    "\n",
    "fig.update_traces(marker=dict(size=15))\n",
    "fig.update_layout(mapbox_style=\"open-street-map\")\n",
    "fig.show()\n"
   ]
  },
  {
   "cell_type": "markdown",
   "id": "d572e058-a553-4fe3-bf91-b279c6968d5d",
   "metadata": {},
   "source": [
    "### 2. Plot \n",
    "\n",
    "* shows the top three neighborhoods with regard to the price per square foot \n"
   ]
  },
  {
   "cell_type": "code",
   "execution_count": null,
   "id": "65a13424-afd2-4496-9b0a-3057d5d86172",
   "metadata": {},
   "outputs": [],
   "source": [
    "top3_zip = [98042, 98038, 98058]\n",
    "top = final_frame.query('zipcode in @top3_zip')\n",
    "\n",
    "fig = px.scatter_mapbox(top, lat=top.lat, lon=top.long, width=800, height=600)\n",
    " \n",
    "fig.update_geos(fitbounds='locations')\n",
    "fig.update_layout(mapbox_style=\"open-street-map\", title=\"Location of the three best neighborhoods\")\n",
    "fig.update_traces(marker=dict(size=30))\n",
    "fig.show()"
   ]
  },
  {
   "cell_type": "markdown",
   "id": "35fad60e-dd1a-4676-8a6a-3224e0c2e689",
   "metadata": {},
   "source": [
    "## 3. Plot\n",
    "\n",
    "* comparison of average price per square foot bewteen **all neighborhoods** with the **nice neighborhoods** as well as the **top three neighborhoods (nice%cheap)**"
   ]
  },
  {
   "cell_type": "code",
   "execution_count": null,
   "id": "16d0e258-5d83-4526-922e-75bb922f0c18",
   "metadata": {
    "tags": []
   },
   "outputs": [],
   "source": [
    "nice = final.query('zipcode in @top3_zip')\n",
    "house_list = house.price_sqft.to_list()\n",
    "new_house_list = final.price_sqft.to_list()\n",
    "top_list = nice.price_sqft.to_list()\n",
    "dic = {'all neighborhoods': house_list, 'nice neighborhoods': new_house_list, 'nice & cheap NH': top_list}\n",
    "\n",
    "\n",
    "fig, ax = plt.subplots()\n",
    "ax.boxplot(dic.values())\n",
    "ax.set_xticklabels(dic.keys())\n",
    "ax.set_ylabel('Price per square foot [$]', fontsize=15, fontweight='bold')\n",
    "ax.set_title('Price per square foot', fontsize=18, fontweight='bold')\n",
    "ax.set_xticklabels(dic.keys(), fontsize=12, fontweight='bold')\n",
    "fig.set_size_inches(10, 8, forward=True)\n",
    "plt.savefig('Price per square foot')"
   ]
  },
  {
   "cell_type": "markdown",
   "id": "79934078-8d81-4a4c-8e82-21a0855eeb0f",
   "metadata": {},
   "source": [
    "* range of prices per square foot become lower as filter increases"
   ]
  },
  {
   "cell_type": "markdown",
   "id": "15cf5a9b-2e3c-4a53-98c4-a157c9c4e1f8",
   "metadata": {},
   "source": [
    "## 4. Plot - Timing?!\n",
    "\n",
    "* The graph is intended to show the changes in price per square foot within the top 3 neighborhoods over the months\n",
    "* In addition, the number of home sales per month should be presented too\n"
   ]
  },
  {
   "cell_type": "code",
   "execution_count": null,
   "id": "663be6e8-12ed-4cba-af9d-1d3647a5f1a5",
   "metadata": {},
   "outputs": [],
   "source": [
    "# building two lists for plotting \"Sales & sqft price per month\n",
    "\n",
    "sells = nice.groupby('month_sold').count().reset_index()\n",
    "sells_list = sells.price.to_list() # list list of all house sales per month\n",
    "\n",
    "sqft = nice.groupby('month_sold').describe().price_sqft.reset_index()\n",
    "sqft_list = sqft['mean'].to_list() # list of mean price per sqft per month\n"
   ]
  },
  {
   "cell_type": "code",
   "execution_count": null,
   "id": "82818e80-e111-4364-ad9a-75d5d31097f8",
   "metadata": {},
   "outputs": [],
   "source": [
    "x = month = ['Jan','Feb','Mar','Apr','May','Jun','Jul','Aug','Sep','Okt','Nov','Dez']\n",
    "y = sqft_list\n",
    "y1 = sells_list\n",
    "\n",
    "fig, ax1 = plt.subplots() # initializes figure and plots\n",
    "\n",
    "ax2 = ax1.twinx() # applies twinx to ax2, which is the second y axis. \n",
    "\n",
    "sns.lineplot(x = x, y = y, ax = ax1, marker = 'o', color = 'blue') # plots the first set of data, and sets it to ax1. \n",
    "sns.lineplot(x = x, y = y1, marker = 'o', color = 'red', ax = ax2) # plots the second set, and sets to ax2. \n",
    "\n",
    "# these lines add the annotations for the plot. \n",
    "\n",
    "ax1.set_ylabel('Average price per square foot [$]', color='b',fontsize=13)\n",
    "ax2.set_ylabel('Number of house sales', color='r', fontsize=13)\n",
    "ax1.set_title('Sales & Sqft Price per month', fontsize=18, fontweight='bold')\n",
    "ax1.set_xticklabels(x, fontsize=12)\n",
    "\n",
    "fig.set_size_inches(13, 5, forward=True)\n",
    "plt.show()\n",
    "#plt.savefig('Sales & Sqft Price per month')"
   ]
  },
  {
   "cell_type": "markdown",
   "id": "522e666b-b6b3-4c73-898b-2bf7fc39a48b",
   "metadata": {},
   "source": [
    "* the price seems to behave typically according to the supply and demand principle -> the more houses are sold per month, the cheaper the square foot price becomes\n",
    "* according to these data it is not recommended to buy at the beginning of the year\n",
    "* the second half of the year seems to be the best time to buy\n",
    "\n",
    "### Let's take a look to the next graph! "
   ]
  },
  {
   "cell_type": "code",
   "execution_count": null,
   "id": "eb61ba91-ada1-40ea-aeaa-3266537da6cb",
   "metadata": {},
   "outputs": [],
   "source": [
    "\n",
    "sns.lmplot(x='month_sold', y='price_sqft', data=nice, x_estimator=np.mean)"
   ]
  },
  {
   "cell_type": "markdown",
   "id": "94ac5350-3d67-4a70-b6c1-a4de7a20e65c",
   "metadata": {},
   "source": [
    "* the regression line showed a slight downward trend with regard to the price per square meter over the year, but no significance can be determined here on the basis of a regression analysis."
   ]
  },
  {
   "cell_type": "code",
   "execution_count": null,
   "id": "3e76834b-01ce-400b-a919-79094ca9925a",
   "metadata": {},
   "outputs": [],
   "source": [
    "# Prepare data for modeling\n",
    "# Choose the predictor and add a constant term\n",
    "#X = top.month_sold\n",
    "#y = top.price_sqft_x\n",
    "#X = sms.add_constant(X)\n",
    "\n",
    "# Create an OLS model\n",
    "#model = sms.OLS(y, X)\n",
    "# use the data to calculate the intercept and slope\n",
    "#results = model.fit()\n",
    "# return the output of the model\n",
    "#results.summary()"
   ]
  },
  {
   "cell_type": "markdown",
   "id": "d81ea4be-79da-453f-b06a-072ef2f4cb8c",
   "metadata": {},
   "source": [
    "## Have a quick look on other variables\n",
    "\n",
    "let's see how good **condition** and **grade** is in the recommendet top 3 neighborhoods in comparison to the whole dataset"
   ]
  },
  {
   "cell_type": "code",
   "execution_count": null,
   "id": "f41a72e7-e3e8-46bf-b020-cbb1830ed244",
   "metadata": {},
   "outputs": [],
   "source": [
    "# top 3\n",
    "gesamt = house.query('zipcode in @top3_zip')\n",
    "gesamt.describe()"
   ]
  },
  {
   "cell_type": "code",
   "execution_count": null,
   "id": "30c2ccbd-7349-4304-a7a0-05d9c520f3f7",
   "metadata": {},
   "outputs": [],
   "source": [
    "# whole dataset\n",
    "house.describe()"
   ]
  },
  {
   "cell_type": "markdown",
   "id": "a13b57b6-d91c-4818-b531-9f3488ac367c",
   "metadata": {},
   "source": [
    "## Summery \n",
    "\n",
    "**Recommended neighborhoods/ towns for a house purchase:**\n",
    "\n",
    "* Renton\n",
    "    Average price per square foot = 160.59 $\n",
    "\n",
    "* Covington\n",
    "    Average price per square foot = 143.95 $\n",
    "\n",
    "* Maple Valley\n",
    "    Average price per square foot = 160.17 $\n",
    "\n",
    "**Recommended timing for a house purchase:**\n",
    "\n",
    "* After the first quarter of the year.\n",
    "\n"
   ]
  },
  {
   "cell_type": "markdown",
   "id": "910789b8-9c7b-4429-b8b8-ec19a0d00ba7",
   "metadata": {},
   "source": [
    "## Further steps\n",
    "\n",
    "There is a lot more i can do. Maybe i will think about it in a later but I'm done :D"
   ]
  },
  {
   "cell_type": "code",
   "execution_count": null,
   "id": "4f43aefe-9f82-4487-8706-435a4cb3ad29",
   "metadata": {},
   "outputs": [],
   "source": []
  }
 ],
 "metadata": {
  "kernelspec": {
   "display_name": "Python 3 (ipykernel)",
   "language": "python",
   "name": "python3"
  },
  "language_info": {
   "codemirror_mode": {
    "name": "ipython",
    "version": 3
   },
   "file_extension": ".py",
   "mimetype": "text/x-python",
   "name": "python",
   "nbconvert_exporter": "python",
   "pygments_lexer": "ipython3",
   "version": "3.9.4"
  }
 },
 "nbformat": 4,
 "nbformat_minor": 5
}
