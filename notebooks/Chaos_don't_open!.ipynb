{
 "cells": [
  {
   "cell_type": "code",
   "execution_count": null,
   "id": "e8f41143-624b-463d-8233-fee3b901caba",
   "metadata": {},
   "outputs": [],
   "source": [
    "\n",
    "import pandas as pd\n",
    "import matplotlib.pyplot as plt\n",
    "import seaborn as sns\n",
    "import plotly.express as px\n",
    "import altair as alt\n",
    "import pandas as pd\n",
    "import statsmodels.api as sms\n",
    "\n",
    "\n"
   ]
  },
  {
   "cell_type": "code",
   "execution_count": null,
   "id": "f490421b-83a8-4d67-bd3e-2899c3a65005",
   "metadata": {},
   "outputs": [],
   "source": [
    "house = pd.read_csv('../data/King_County_House_prices_dataset.csv')\n",
    "\n",
    "house.sqft_lot15.describe()"
   ]
  },
  {
   "cell_type": "code",
   "execution_count": null,
   "id": "74416b61-6c34-41c5-b9a9-03a48010322d",
   "metadata": {},
   "outputs": [],
   "source": [
    "# median 7620 quadratfuß\n",
    "# wenn in einem viertel q25 von der Grundstücksfläche größer als der Median von den gesamten Grundstücksflächen ist fliegt das viertel raus\n",
    "new_house = house\n",
    "big = new_house.groupby('zipcode').sqft_lot15.describe()['25%'].reset_index()\n",
    "big = big[big['25%'] > 7620]\n",
    "big_list = big.zipcode.to_list()\n",
    "big_list"
   ]
  },
  {
   "cell_type": "code",
   "execution_count": null,
   "id": "2c99562d-0dd1-4706-82f6-d8dd22097e4a",
   "metadata": {},
   "outputs": [],
   "source": [
    "#Date to datetime series and add month_sold as new column \n",
    "\n",
    "new_house['date']=pd.to_datetime(new_house['date'],format='%m/%d/%Y')\n",
    "new_house['month_sold'] = new_house['date'].dt.month\n"
   ]
  },
  {
   "cell_type": "code",
   "execution_count": null,
   "id": "e795fd69-e544-45c8-821b-51752bbfe43c",
   "metadata": {},
   "outputs": [],
   "source": [
    "# take median zipcodes = 282 houses per zipcode\n",
    "new_house.groupby('zipcode').count().id.describe()"
   ]
  },
  {
   "cell_type": "code",
   "execution_count": null,
   "id": "7a63ed4b-75c9-4fdb-8ba3-5c96235c4ce5",
   "metadata": {},
   "outputs": [],
   "source": []
  },
  {
   "cell_type": "code",
   "execution_count": null,
   "id": "8e7afc4f-776a-4268-8c13-3567e4060348",
   "metadata": {},
   "outputs": [],
   "source": [
    "# filter the zipcodes with more sold houses and add them to the list zips\n",
    "\n",
    "top_zip = new_house.groupby('zipcode').count().query('id > 282').reset_index()\n",
    "zips = top_zip.zipcode.to_list()\n"
   ]
  },
  {
   "cell_type": "code",
   "execution_count": null,
   "id": "39d2256c-9739-472a-8005-052811ee8962",
   "metadata": {},
   "outputs": [],
   "source": [
    "# mindest Anforderung Platz\n",
    "#110 Quadratmeter = 1184 square foot\n",
    "# all zipcodes where the count of the sold objects higher than the median\n",
    "\n",
    "\n",
    "new_house = new_house.query('zipcode in @zips and sqft_living > 1184 and bedrooms >= 4 and zipcode not in @big_list')\n",
    "new_house"
   ]
  },
  {
   "cell_type": "code",
   "execution_count": null,
   "id": "5347c909-7e55-45c0-86ad-7cd1b561b92d",
   "metadata": {},
   "outputs": [],
   "source": [
    "final = new_house[['price', 'bedrooms', 'sqft_living', 'zipcode', 'month_sold', 'lat', 'long']].copy()\n",
    "final['price_sqft'] = final.price / final.sqft_living\n"
   ]
  },
  {
   "cell_type": "code",
   "execution_count": null,
   "id": "b0fcc54d-c7a1-445a-af78-4fd25f68b451",
   "metadata": {},
   "outputs": [],
   "source": [
    "# Q25 als grenze für quadratmeterpreis = 177\n",
    "# anschließend schauen in welchen vierteln der Q25 von allen vierteln gleich Q75 ist und diese rausfiltern weil Ghetto\n",
    "#df[df['length'] <= 0.4]\n",
    "\n",
    "ghetto = final.groupby('zipcode').price_sqft.describe()[\"75%\"].reset_index()\n",
    "ghetto = ghetto[ghetto['75%'] < 177]\n",
    "ghetto_list = ghetto.zipcode.to_list()\n",
    "ghetto_list\n",
    "final = final.query('zipcode not in @ ghetto_list')\n",
    "final"
   ]
  },
  {
   "cell_type": "code",
   "execution_count": null,
   "id": "000874b3-553e-425c-8dd9-5971a98273fa",
   "metadata": {},
   "outputs": [],
   "source": [
    "sns.pairplot(final)"
   ]
  },
  {
   "cell_type": "code",
   "execution_count": null,
   "id": "a90274b4-1449-429e-bc1c-9ba48fa3752e",
   "metadata": {},
   "outputs": [],
   "source": [
    "plt.scatter(final.month_sold, final.price)"
   ]
  },
  {
   "cell_type": "code",
   "execution_count": null,
   "id": "df5e9678-740f-4baf-bb5e-d4b80ac379c1",
   "metadata": {},
   "outputs": [],
   "source": [
    "z = final.groupby('zipcode').mean()\n",
    "fig = px.bar(final, final.month_sold, final.price)\n",
    "fig.show()"
   ]
  },
  {
   "cell_type": "code",
   "execution_count": null,
   "id": "05a5c512-f1b2-4282-9d85-09e8853ae0c3",
   "metadata": {},
   "outputs": [],
   "source": [
    "fig = px.scatter_mapbox(final, lat=final.lat, lon=final.long, width=1000, height=800)\n",
    " \n",
    "fig.update_geos(fitbounds='locations')\n",
    "fig.update_layout(title=\"Social neighborhood\")\n",
    "fig.update_layout(\n",
    "    mapbox_style=\"white-bg\",\n",
    "    mapbox_layers=[\n",
    "        {\n",
    "            \"below\": 'traces',\n",
    "            \"sourcetype\": \"raster\",\n",
    "            \"sourceattribution\": \"United States Geological Survey\",\n",
    "            \"source\": [\n",
    "                \"https://basemap.nationalmap.gov/arcgis/rest/services/USGSImageryOnly/MapServer/tile/{z}/{y}/{x}\"\n",
    "            ]\n",
    "        }\n",
    "      ])\n",
    "fig.show()\n"
   ]
  },
  {
   "cell_type": "code",
   "execution_count": null,
   "id": "1c9477c2-c2fd-40d4-8b4d-c163adeadcaf",
   "metadata": {},
   "outputs": [],
   "source": [
    "fig = px.scatter_mapbox(house, lat=house.lat, lon=house.long, width=1000, height=800)\n",
    " \n",
    "fig.update_geos(fitbounds='locations')\n",
    "fig.update_layout(title=\"Social neighborhood\")\n",
    "fig.update_layout(\n",
    "    mapbox_style=\"white-bg\",\n",
    "    mapbox_layers=[\n",
    "        {\n",
    "            \"below\": 'traces',\n",
    "            \"sourcetype\": \"raster\",\n",
    "            \"sourceattribution\": \"United States Geological Survey\",\n",
    "            \"source\": [\n",
    "                \"https://basemap.nationalmap.gov/arcgis/rest/services/USGSImageryOnly/MapServer/tile/{z}/{y}/{x}\"\n",
    "            ]\n",
    "        }\n",
    "      ])\n",
    "fig.show()"
   ]
  },
  {
   "cell_type": "code",
   "execution_count": null,
   "id": "9ac69d7c-2cea-4ae0-910e-0a5c21a8ebde",
   "metadata": {},
   "outputs": [],
   "source": []
  }
 ],
 "metadata": {
  "kernelspec": {
   "display_name": "Python 3 (ipykernel)",
   "language": "python",
   "name": "python3"
  },
  "language_info": {
   "codemirror_mode": {
    "name": "ipython",
    "version": 3
   },
   "file_extension": ".py",
   "mimetype": "text/x-python",
   "name": "python",
   "nbconvert_exporter": "python",
   "pygments_lexer": "ipython3",
   "version": "3.9.4"
  }
 },
 "nbformat": 4,
 "nbformat_minor": 5
}
